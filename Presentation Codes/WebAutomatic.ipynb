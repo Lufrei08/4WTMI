{
 "cells": [
  {
   "cell_type": "code",
   "execution_count": 1,
   "metadata": {},
   "outputs": [],
   "source": [
    "from selenium.webdriver.common.by import By\n",
    "from selenium import webdriver\n",
    "\n",
    "browser = webdriver.Chrome()\n",
    "\n",
    "browser.get(\"https://dados.gov.br/dataset?res_format=XLS\")\n",
    "browser.find_element(By.XPATH, '//*[@id=\"content\"]/div[3]/div/section[1]/div[1]/ul/li[6]/div/h3/a').click()\n",
    "browser.find_element(By.XPATH, '//*[@id=\"dataset-resources\"]/ul/li[9]/a/span').click()\n",
    "browser.find_element(By.XPATH, '//*[@id=\"content\"]/div[3]/section/div[1]/div[1]/ul/li/a').click()\n"
   ]
  }
 ],
 "metadata": {
  "kernelspec": {
   "display_name": "Python 3.10.5 64-bit",
   "language": "python",
   "name": "python3"
  },
  "language_info": {
   "codemirror_mode": {
    "name": "ipython",
    "version": 3
   },
   "file_extension": ".py",
   "mimetype": "text/x-python",
   "name": "python",
   "nbconvert_exporter": "python",
   "pygments_lexer": "ipython3",
   "version": "3.10.5"
  },
  "orig_nbformat": 4,
  "vscode": {
   "interpreter": {
    "hash": "369f2c481f4da34e4445cda3fffd2e751bd1c4d706f27375911949ba6bb62e1c"
   }
  }
 },
 "nbformat": 4,
 "nbformat_minor": 2
}
