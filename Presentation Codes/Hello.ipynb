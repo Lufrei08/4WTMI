{
 "cells": [
  {
   "cell_type": "code",
   "execution_count": null,
   "id": "a011b4df-5c1b-485a-9577-bca107feda87",
   "metadata": {},
   "outputs": [],
   "source": [
    "#Expulsando a maldição de linguagem...\n",
    "print(\"Hello World\")"
   ]
  },
  {
   "cell_type": "code",
   "execution_count": null,
   "id": "25d4f435-3544-415c-86a4-c25b0ba53d03",
   "metadata": {},
   "outputs": [],
   "source": [
    "#include <stdio.h>\n",
    "\n",
    "int main(){\n",
    "    printf(\"Ola mundo.\");\n",
    "    return 0;\n",
    "}"
   ]
  },
  {
   "cell_type": "code",
   "execution_count": null,
   "id": "e24eb8b2",
   "metadata": {},
   "outputs": [],
   "source": [
    "class HelloWorld {\n",
    " public static void main(String args[]){\n",
    "     System.out.println(\"Hello World\");\n",
    " }\n",
    "}"
   ]
  }
 ],
 "metadata": {
  "kernelspec": {
   "display_name": "Python 3.10.5 64-bit",
   "language": "python",
   "name": "python3"
  },
  "language_info": {
   "codemirror_mode": {
    "name": "ipython",
    "version": 3
   },
   "file_extension": ".py",
   "mimetype": "text/x-python",
   "name": "python",
   "nbconvert_exporter": "python",
   "pygments_lexer": "ipython3",
   "version": "3.10.5"
  },
  "vscode": {
   "interpreter": {
    "hash": "369f2c481f4da34e4445cda3fffd2e751bd1c4d706f27375911949ba6bb62e1c"
   }
  }
 },
 "nbformat": 4,
 "nbformat_minor": 5
}
