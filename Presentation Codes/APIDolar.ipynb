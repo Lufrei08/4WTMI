{
 "cells": [
  {
   "cell_type": "code",
   "execution_count": 1,
   "metadata": {},
   "outputs": [
    {
     "name": "stdout",
     "output_type": "stream",
     "text": [
      "O valor do dolar é 5.1885\n"
     ]
    }
   ],
   "source": [
    "#API = https://docs.awesomeapi.com.br/api-de-moedas\n",
    "\n",
    "import requests\n",
    "\n",
    "#fazendo um requisição com a API para receber os dados\n",
    "res = requests.get('https://economia.awesomeapi.com.br/json/all/USD-BRL')\n",
    "res.status_code #Testando a conexão com a API\n",
    "\n",
    "if (res.status_code == 200): \n",
    "    dolar = res.json() ['USD']['bid']\n",
    "    print(f'O valor do dolar é {dolar}')\n",
    "else: \"Erro de conexão com servidor\""
   ]
  }
 ],
 "metadata": {
  "kernelspec": {
   "display_name": "Python 3.10.5 64-bit",
   "language": "python",
   "name": "python3"
  },
  "language_info": {
   "codemirror_mode": {
    "name": "ipython",
    "version": 3
   },
   "file_extension": ".py",
   "mimetype": "text/x-python",
   "name": "python",
   "nbconvert_exporter": "python",
   "pygments_lexer": "ipython3",
   "version": "3.10.5"
  },
  "vscode": {
   "interpreter": {
    "hash": "369f2c481f4da34e4445cda3fffd2e751bd1c4d706f27375911949ba6bb62e1c"
   }
  }
 },
 "nbformat": 4,
 "nbformat_minor": 4
}
