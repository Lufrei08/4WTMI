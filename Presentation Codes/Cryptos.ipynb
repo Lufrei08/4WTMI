{
 "cells": [
  {
   "cell_type": "code",
   "execution_count": 1,
   "metadata": {},
   "outputs": [
    {
     "name": "stdout",
     "output_type": "stream",
     "text": [
      "Lendo páginas, aguarde... 1\n",
      "Lendo páginas, aguarde... 2\n",
      "Lendo páginas, aguarde... 3\n"
     ]
    }
   ],
   "source": [
    "import requests\n",
    "from bs4 import BeautifulSoup\n",
    "import pandas as pd\n",
    "\n",
    "headers= {\n",
    "    'User-Agent': 'Mozilla/5.0 (Windows NT 10.0; Win64; x64; rv:87.0) Gecko/20100101 Firefox/87.0',\n",
    "    'Accept': 'text/html,application/xhtml+xml,application/xml;q=0.9,image/webp,*/*;q=0.8',\n",
    "    'Accept-Language': 'en-US,en;q=0.5',\n",
    "    'Connection': 'keep-alive',\n",
    "    'Upgrade-Insecure-Requests': '1',\n",
    "    'Cache-Control': 'max-age=0'\n",
    "}\n",
    "base_url = \"https://www.coingecko.com/pt\"\n",
    "\n",
    "tables = []\n",
    "\n",
    "for i in range(1, 4):\n",
    "    print('Lendo páginas, aguarde... {0}'.format(i))\n",
    "    params = {\n",
    "        'page': i\n",
    "    }\n",
    "    response = requests.get(base_url, headers=headers, params=params)\n",
    "    soup = BeautifulSoup(response.content, 'html.parser')\n",
    "    tables.append(pd.read_html(str(soup))[0])\n",
    "\n",
    "tabela_principal = pd.concat(tables)\n",
    "tabela_principal = tabela_principal.loc[:, tabela_principal.columns[1:-1]]\n",
    "tabela_principal.to_excel('Crypto Data Table.xlsx', index=False)"
   ]
  }
 ],
 "metadata": {
  "kernelspec": {
   "display_name": "Python 3.10.5 64-bit",
   "language": "python",
   "name": "python3"
  },
  "language_info": {
   "codemirror_mode": {
    "name": "ipython",
    "version": 3
   },
   "file_extension": ".py",
   "mimetype": "text/x-python",
   "name": "python",
   "nbconvert_exporter": "python",
   "pygments_lexer": "ipython3",
   "version": "3.10.5"
  },
  "orig_nbformat": 4,
  "vscode": {
   "interpreter": {
    "hash": "369f2c481f4da34e4445cda3fffd2e751bd1c4d706f27375911949ba6bb62e1c"
   }
  }
 },
 "nbformat": 4,
 "nbformat_minor": 2
}
