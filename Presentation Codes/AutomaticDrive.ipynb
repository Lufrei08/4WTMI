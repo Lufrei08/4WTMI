{
 "cells": [
  {
   "cell_type": "code",
   "execution_count": 2,
   "metadata": {},
   "outputs": [
    {
     "data": {
      "text/plain": [
       "'OK'"
      ]
     },
     "execution_count": 2,
     "metadata": {},
     "output_type": "execute_result"
    }
   ],
   "source": [
    "import pyautogui \n",
    "import time\n",
    "#py.KEYBOARD_KEYS #(Mapeamento das teclas)\n",
    "pyautogui.alert(\"A aplicação está rodando, aguarde a conclusão\")\n",
    "pyautogui.PAUSE = 2.0\n",
    "\n",
    "#Abrindo o Google Drive\n",
    "pyautogui.press('winleft')\n",
    "pyautogui.write('chrome')\n",
    "pyautogui.press('enter')\n",
    "time.sleep(1) #Função responsável por dar uma pausa, no caso 1 segundo\n",
    "pyautogui.write(\"https://drive.google.com/drive/u/1/my-drive\")\n",
    "pyautogui.press('enter')\n",
    "\n",
    "#buscando o arquivo que será enviado para o google drive\n",
    "pyautogui.hotkey('winleft','e') #Função para realizar um atalho de teclas\n",
    "pyautogui.moveTo(114,369)\n",
    "pyautogui.leftClick()\n",
    "pyautogui.moveTo(270,127)\n",
    "pyautogui.doubleClick()\n",
    "pyautogui.moveTo(291,129)\n",
    "pyautogui.doubleClick()\n",
    "pyautogui.moveTo(236,125)\n",
    "\n",
    "#Arrastando o arquivo para o drive\n",
    "pyautogui.mouseDown() #Função responsável por segurar o botão do mouse\n",
    "pyautogui.moveTo(636,565)\n",
    "pyautogui.hotkey('alt','tab')\n",
    "time.sleep(1)\n",
    "pyautogui.mouseUp() #Função responsável por liberar o botão do mouse\n",
    "\n",
    "pyautogui.alert(\"A aplicação terminou, pode utilizar normalmente seu computador\")"
   ]
  },
  {
   "cell_type": "code",
   "execution_count": 4,
   "metadata": {},
   "outputs": [
    {
     "data": {
      "text/plain": [
       "Point(x=1307, y=62)"
      ]
     },
     "execution_count": 4,
     "metadata": {},
     "output_type": "execute_result"
    }
   ],
   "source": [
    "import pyautogui\n",
    "\n",
    "pyautogui.position()\n"
   ]
  }
 ],
 "metadata": {
  "kernelspec": {
   "display_name": "Python 3.10.5 64-bit",
   "language": "python",
   "name": "python3"
  },
  "language_info": {
   "codemirror_mode": {
    "name": "ipython",
    "version": 3
   },
   "file_extension": ".py",
   "mimetype": "text/x-python",
   "name": "python",
   "nbconvert_exporter": "python",
   "pygments_lexer": "ipython3",
   "version": "3.10.5"
  },
  "vscode": {
   "interpreter": {
    "hash": "369f2c481f4da34e4445cda3fffd2e751bd1c4d706f27375911949ba6bb62e1c"
   }
  }
 },
 "nbformat": 4,
 "nbformat_minor": 4
}
