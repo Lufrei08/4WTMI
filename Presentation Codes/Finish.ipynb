{
 "cells": [
  {
   "cell_type": "code",
   "execution_count": 32,
   "metadata": {},
   "outputs": [],
   "source": [
    "from selenium.common.exceptions import NoSuchElementException\n",
    "from selenium.webdriver.common.by import By\n",
    "from selenium import webdriver\n",
    "from selenium.webdriver.common.keys import Keys\n",
    "import time\n",
    "import urllib\n",
    "import pandas as pd\n",
    "import pyautogui as py\n",
    "\n",
    "headers= {\n",
    "    'User-Agent': 'Mozilla/5.0 (Windows NT 10.0; Win64; x64; rv:87.0) Gecko/20100101 Firefox/87.0',\n",
    "    'Accept': 'text/html,application/xhtml+xml,application/xml;q=0.9,image/webp,*/*;q=0.8',\n",
    "    'Accept-Language': 'en-US,en;q=0.5',\n",
    "    'Connection': 'keep-alive',\n",
    "    'Upgrade-Insecure-Requests': '1',\n",
    "    'Cache-Control': 'max-age=0'\n",
    "}\n",
    "contact_list = pd.read_excel(\"Enviar.xlsx\")\n",
    "#display(contact_list)\n",
    "\n",
    "\n",
    "browser = webdriver.Firefox()\n",
    "browser.get(\"https://web.whatsapp.com/\")\n",
    "\n",
    "# Buscando elemento que confirme o carregamento total\n",
    "try:\n",
    "    while len(browser.find_element(By.ID, \"side\")) < 1:\n",
    "        time.sleep(1)\n",
    "except NoSuchElementException:  # spelling error making this code not work as expected \n",
    "        pass\n",
    "# Já logados no whatsappWEB\n",
    "\n",
    "# Para cada mensagem da coluna\n",
    "        for i, mensagem in enumerate(contact_list['Mensagem']):\n",
    "            pessoa = contact_list.loc[i, \"Pessoa\"]\n",
    "            numero = contact_list.loc[i, \"Número\"]\n",
    "            # codificando e organizando mensagem para URL\n",
    "            texto = urllib.parse.quote(f\"Oi {pessoa}! {mensagem}\")\n",
    "            link = f\"https://web.whatsapp.com/send?phone={numero}&text={texto}\"\n",
    "            browser.get(link)\n",
    "            try:\n",
    "                while len(browser.find_element(By.ID, \"side\")) < 1:\n",
    "            \n",
    "                    time.sleep(1)\n",
    "                    \n",
    "                    browser.find_element_by_xpath('/html/body/div[1]/div/div/div[4]/div/footer/div[1]/div/span[2]/div/div[2]/div[1]/div/div[2]').send_keys(Keys.ENTER)\n",
    "                #py.moveTo(1014,688)\n",
    "                #py.leftClick()\n",
    "                    time.sleep(15)\n",
    "\n",
    "            except NoSuchElementException:  # spelling error making this code not work as expected \n",
    "             pass\n",
    "                \n",
    "        "
   ]
  }
 ],
 "metadata": {
  "kernelspec": {
   "display_name": "Python 3.10.5 64-bit",
   "language": "python",
   "name": "python3"
  },
  "language_info": {
   "codemirror_mode": {
    "name": "ipython",
    "version": 3
   },
   "file_extension": ".py",
   "mimetype": "text/x-python",
   "name": "python",
   "nbconvert_exporter": "python",
   "pygments_lexer": "ipython3",
   "version": "3.10.5"
  },
  "orig_nbformat": 4,
  "vscode": {
   "interpreter": {
    "hash": "369f2c481f4da34e4445cda3fffd2e751bd1c4d706f27375911949ba6bb62e1c"
   }
  }
 },
 "nbformat": 4,
 "nbformat_minor": 2
}
