{
 "cells": [
  {
   "cell_type": "code",
   "execution_count": 2,
   "id": "f0cd91d3-f257-466f-a5ea-e79c4e599188",
   "metadata": {},
   "outputs": [
    {
     "name": "stdout",
     "output_type": "stream",
     "text": [
      "\tExcelente Palestra =D\t\n",
      "\n"
     ]
    }
   ],
   "source": [
    "#Abrindo arquivo com python\n",
    "myfile = open (\"palestra.txt\")\n",
    "#print(myfile.read())\n",
    "\n",
    "#lendo o arquivo e retornando uma lista com cada linha\n",
    "stretch = myfile.readlines()\n",
    "#imprimindo uma linha especifica\n",
    "print(stretch[14])\n",
    "myfile.close()"
   ]
  }
 ],
 "metadata": {
  "kernelspec": {
   "display_name": "Python 3.10.5 64-bit",
   "language": "python",
   "name": "python3"
  },
  "language_info": {
   "codemirror_mode": {
    "name": "ipython",
    "version": 3
   },
   "file_extension": ".py",
   "mimetype": "text/x-python",
   "name": "python",
   "nbconvert_exporter": "python",
   "pygments_lexer": "ipython3",
   "version": "3.10.5"
  },
  "vscode": {
   "interpreter": {
    "hash": "369f2c481f4da34e4445cda3fffd2e751bd1c4d706f27375911949ba6bb62e1c"
   }
  }
 },
 "nbformat": 4,
 "nbformat_minor": 5
}
